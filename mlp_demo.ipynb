{
 "cells": [
  {
   "cell_type": "markdown",
   "metadata": {},
   "source": [
    "# Multi-Layer Perceptron Demo"
   ]
  },
  {
   "cell_type": "code",
   "execution_count": 2,
   "metadata": {},
   "outputs": [],
   "source": [
    "from mlp.activations import Sigmoid\n",
    "from mlp.losses import MeanSquaredError\n",
    "from mlp.mlp import MLP, MLPLayersBuilder\n",
    "\n",
    "import numpy as np"
   ]
  },
  {
   "cell_type": "markdown",
   "metadata": {},
   "source": [
    "## XOR Problem"
   ]
  },
  {
   "cell_type": "code",
   "execution_count": 8,
   "metadata": {},
   "outputs": [
    {
     "name": "stdout",
     "output_type": "stream",
     "text": [
      "Epoch 1/10000 | Loss: [0.50020785]\n",
      "Epoch 1001/10000 | Loss: [0.49999689]\n",
      "Epoch 2001/10000 | Loss: [0.49998977]\n",
      "Epoch 3001/10000 | Loss: [0.49997354]\n",
      "Epoch 4001/10000 | Loss: [0.4999154]\n",
      "Epoch 5001/10000 | Loss: [0.49932464]\n",
      "Epoch 6001/10000 | Loss: [0.43353927]\n",
      "Epoch 7001/10000 | Loss: [0.15922151]\n",
      "Epoch 8001/10000 | Loss: [0.02109562]\n",
      "Epoch 9001/10000 | Loss: [0.00881177]\n",
      "[[0.04675456]\n",
      " [0.95023446]\n",
      " [0.950628  ]\n",
      " [0.05898119]]\n"
     ]
    }
   ],
   "source": [
    "X = np.array([[0,0],\n",
    "              [0,1],\n",
    "              [1,0],\n",
    "              [1,1]])\n",
    "\n",
    "y = np.array([[0, 1, 1, 0]]).T\n",
    "\n",
    "mlp_layers_builder = MLPLayersBuilder()\\\n",
    "    .add_input(2)\\\n",
    "    .add_dense(5, Sigmoid())\\\n",
    "    .add_dense(1, Sigmoid())\n",
    "layers = mlp_layers_builder.build()\n",
    "\n",
    "mlp = MLP(layers, loss_function=MeanSquaredError(), n_epochs=10000, learning_rate=0.9)\n",
    "mlp.fit(X,y)\n",
    "\n",
    "print(mlp.forward(X))"
   ]
  }
 ],
 "metadata": {
  "kernelspec": {
   "display_name": ".venv",
   "language": "python",
   "name": "python3"
  },
  "language_info": {
   "codemirror_mode": {
    "name": "ipython",
    "version": 3
   },
   "file_extension": ".py",
   "mimetype": "text/x-python",
   "name": "python",
   "nbconvert_exporter": "python",
   "pygments_lexer": "ipython3",
   "version": "3.10.0"
  }
 },
 "nbformat": 4,
 "nbformat_minor": 2
}
